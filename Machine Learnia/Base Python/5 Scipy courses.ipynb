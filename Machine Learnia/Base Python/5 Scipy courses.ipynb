{
 "cells": [
  {
   "cell_type": "markdown",
   "id": "13ae76c0-9a23-4c41-b37d-f44b409c06b5",
   "metadata": {},
   "source": [
    "# SCIPY Courses"
   ]
  },
  {
   "cell_type": "markdown",
   "id": "65e493aa-873f-47dd-8a0b-500551390309",
   "metadata": {},
   "source": [
    "Alors nous allons voir comment faire du calcul scientifique avec \"scipy\".\n",
    "\n",
    "A l'intérieur de cet package on retrouve des outils absolument incroyables pour faire \n",
    "du machine learning. Et bizzarement pas mal de Data Scientists oublient de les utiliser ces outils là...\n",
    "\n",
    "En l'occurrence on va voir comment faire des interpolations, de l'optimization de problème, du traitement du signal.\n",
    "Et ça va inclure la transformée de Fourier qui est extrêmement puissant pour filtrer des signaux et on terminera ceci en voyant comment faire du traitement d'images avec \"NdImage\""
   ]
  },
  {
   "cell_type": "markdown",
   "id": "b0068f9d-f255-41a9-9c83-4faf86960361",
   "metadata": {},
   "source": [
    "Alors quand on consulte la documentation officielle de scipy qui est disponible à cette addresse:\n",
    "\n",
    "[https://docs.scipy.org/doc/scipy/reference/](https://docs.scipy.org/doc/scipy/reference/)\n",
    "\n",
    "Et bien on peut se rendre compte que dans scipy, on a tout un tas de petits modules qui nous permettent de faire des actions scientifiques bien précises.\n",
    "\n",
    "Par exemple on va retrouver un module pour faire de l'algèbre linéaire (**scipy.sparse.linalg**) ou un module pour faire des statistiques (**scipy.stats**)... En fait, c'est un peu comme dans **numpy**.\n",
    "\n",
    "Donc on va s'intéresser au module **scipy.interpolate**:\n"
   ]
  },
  {
   "cell_type": "markdown",
   "id": "8e602da9-c4b4-46fa-a097-a54894489b09",
   "metadata": {},
   "source": [
    "## 1) Interpolation\n",
    "\n",
    "En data science, il arrive souvent qu'on ait à disposition des datasets dans lesquels il manque des valeurs...\n",
    "\n",
    "Il peut avoir plein de raisons à çà... Par exemple on peut avoir deux capteurs qui collectent des données avec des fréquences d'acquisition différentes:\n",
    "\n",
    "Par exemple, **le capteur1** récolte des données chaque seconde et **le capteur2** chaque 3 secondes, alors quand on est dans ce genre de situation, on peut se dire...\n",
    "\n",
    "Ah ouais, c'est dommage, on peut seulement se servir d' 1/3 de nos données vue que les 2/3 restants il y'a des problèmes de correspondances entre nos deux signaux...\n",
    "\n",
    "Sauf que ces valeurs, ne sont pas pour autant gâchées à condition qu'on puisse les interpoler...\n",
    "\n",
    "Alors pour illustrer tout çà imaginons que le capteur 2 nous donne ceci"
   ]
  },
  {
   "cell_type": "code",
   "execution_count": 10,
   "id": "b3c864d3-675a-4e7d-8e63-6d5b513687d6",
   "metadata": {},
   "outputs": [],
   "source": [
    "import numpy as np\n",
    "import matplotlib.pyplot as plt"
   ]
  },
  {
   "cell_type": "code",
   "execution_count": 13,
   "id": "41b5126b-c735-4536-9701-df1bca39d54f",
   "metadata": {},
   "outputs": [
    {
     "data": {
      "image/png": "[encoded data removed]",
      "text/plain": [
       "<Figure size 640x480 with 1 Axes>"
      ]
     },
     "metadata": {},
     "output_type": "display_data"
    }
   ],
   "source": [
    "x = np.linspace(0, 10, 10)\n",
    "y = x ** 2\n",
    "plt.scatter(x, y)\n",
    "plt.title(\"Capteur 2\")\n",
    "plt.show()"
   ]
  },
  {
   "cell_type": "code",
   "execution_count": 15,
   "id": "3541ece9-b857-4e91-8777-1d945545a79c",
   "metadata": {},
   "outputs": [],
   "source": [
    "# Nous ce qu'on aimerait faire, c'est d'interpoler, c'est à dire de placer plus de points entre nos différents points bleus\n",
    "\n",
    "# Alors pour faire cette interpolation, on va utiliser la fonction, \"interp1d\" qui est à l'intérrieur du module scipy.interpolate\n",
    "\n",
    "from scipy.interpolate import interp1d"
   ]
  },
  {
   "cell_type": "code",
   "execution_count": null,
   "id": "198140f6-938c-4fa5-9c0f-135f16117ff9",
   "metadata": {},
   "outputs": [],
   "source": [
    "# Cette fonction va nous permettre de générer une autre fonction, disons f qui sera notre fonction "
   ]
  }
 ],
 "metadata": {
  "kernelspec": {
   "display_name": "Python 3 (ipykernel)",
   "language": "python",
   "name": "python3"
  },
  "language_info": {
   "codemirror_mode": {
    "name": "ipython",
    "version": 3
   },
   "file_extension": ".py",
   "mimetype": "text/x-python",
   "name": "python",
   "nbconvert_exporter": "python",
   "pygments_lexer": "ipython3",
   "version": "3.13.5"
  }
 },
 "nbformat": 4,
 "nbformat_minor": 5
}
