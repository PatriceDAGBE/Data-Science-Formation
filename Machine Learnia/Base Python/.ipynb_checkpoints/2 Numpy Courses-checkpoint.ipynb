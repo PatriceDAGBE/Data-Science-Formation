{
 "cells": [
  {
   "cell_type": "markdown",
   "id": "84cdfcc5",
   "metadata": {},
   "source": [
    "# Numpy Application"
   ]
  },
  {
   "cell_type": "code",
   "execution_count": 1,
   "id": "69cfc683",
   "metadata": {},
   "outputs": [],
   "source": [
    "# Documentation link\n",
    "#===============================================================================================================\n",
    "#                                  https://docs.scipy.org/doc/\n",
    "#===============================================================================================================\n",
    "\n",
    "import numpy as np"
   ]
  },
  {
   "cell_type": "markdown",
   "id": "e3ab2210",
   "metadata": {},
   "source": [
    "## Création d'un tableau avec numpy"
   ]
  },
  {
   "cell_type": "code",
   "execution_count": 2,
   "id": "194b3184",
   "metadata": {},
   "outputs": [
    {
     "data": {
      "text/plain": [
       "array([1, 2, 3])"
      ]
     },
     "execution_count": 2,
     "metadata": {},
     "output_type": "execute_result"
    }
   ],
   "source": [
    "# Création d'un tableau de 1 dimension\n",
    "\n",
    "A = np.array([1, 2, 3])\n",
    "A"
   ]
  },
  {
   "cell_type": "code",
   "execution_count": 3,
   "id": "78626091",
   "metadata": {},
   "outputs": [
    {
     "data": {
      "text/plain": [
       "1"
      ]
     },
     "execution_count": 3,
     "metadata": {},
     "output_type": "execute_result"
    }
   ],
   "source": [
    "# Vérifier le nombre de dimension\n",
    "A.ndim"
   ]
  },
  {
   "cell_type": "code",
   "execution_count": 4,
   "id": "c202d663",
   "metadata": {},
   "outputs": [
    {
     "data": {
      "text/plain": [
       "(3,)"
      ]
     },
     "execution_count": 4,
     "metadata": {},
     "output_type": "execute_result"
    }
   ],
   "source": [
    "# Vérifier sa forme\n",
    "A.shape"
   ]
  },
  {
   "cell_type": "code",
   "execution_count": 5,
   "id": "81ddef34",
   "metadata": {},
   "outputs": [
    {
     "data": {
      "text/plain": [
       "array([[0., 0.],\n",
       "       [0., 0.],\n",
       "       [0., 0.]])"
      ]
     },
     "execution_count": 5,
     "metadata": {},
     "output_type": "execute_result"
    }
   ],
   "source": [
    "# Création d'un tableau avec initialization avec des zeros\n",
    "B = np.zeros((3, 2))\n",
    "B"
   ]
  },
  {
   "cell_type": "code",
   "execution_count": 6,
   "id": "3567ad2b",
   "metadata": {},
   "outputs": [
    {
     "data": {
      "text/plain": [
       "2"
      ]
     },
     "execution_count": 6,
     "metadata": {},
     "output_type": "execute_result"
    }
   ],
   "source": [
    "# Vérifier le nombre de dimension\n",
    "B.ndim"
   ]
  },
  {
   "cell_type": "code",
   "execution_count": 7,
   "id": "f2291a25",
   "metadata": {},
   "outputs": [
    {
     "data": {
      "text/plain": [
       "(3, 2)"
      ]
     },
     "execution_count": 7,
     "metadata": {},
     "output_type": "execute_result"
    }
   ],
   "source": [
    "# Vérifier sa forme\n",
    "B.shape"
   ]
  },
  {
   "cell_type": "code",
   "execution_count": 8,
   "id": "2b90eb25",
   "metadata": {},
   "outputs": [
    {
     "data": {
      "text/plain": [
       "array([[1., 1., 1., 1.],\n",
       "       [1., 1., 1., 1.],\n",
       "       [1., 1., 1., 1.]])"
      ]
     },
     "execution_count": 8,
     "metadata": {},
     "output_type": "execute_result"
    }
   ],
   "source": [
    "# Création d'un tableau avec initialization avec des uns\n",
    "C = np.ones((3, 4))\n",
    "C"
   ]
  },
  {
   "cell_type": "code",
   "execution_count": 9,
   "id": "f60f0402",
   "metadata": {},
   "outputs": [
    {
     "data": {
      "text/plain": [
       "2"
      ]
     },
     "execution_count": 9,
     "metadata": {},
     "output_type": "execute_result"
    }
   ],
   "source": [
    "# Vérifier le nombre de dimension\n",
    "C.ndim"
   ]
  },
  {
   "cell_type": "code",
   "execution_count": 10,
   "id": "220d7a7f",
   "metadata": {},
   "outputs": [
    {
     "data": {
      "text/plain": [
       "(3, 4)"
      ]
     },
     "execution_count": 10,
     "metadata": {},
     "output_type": "execute_result"
    }
   ],
   "source": [
    "# Vérifier sa forme\n",
    "C.shape"
   ]
  },
  {
   "cell_type": "code",
   "execution_count": 11,
   "id": "833ea917",
   "metadata": {},
   "outputs": [
    {
     "data": {
      "text/plain": [
       "12"
      ]
     },
     "execution_count": 11,
     "metadata": {},
     "output_type": "execute_result"
    }
   ],
   "source": [
    "# Vérifier sa taille\n",
    "C.size"
   ]
  },
  {
   "cell_type": "code",
   "execution_count": 12,
   "id": "3e878b65",
   "metadata": {},
   "outputs": [
    {
     "data": {
      "text/plain": [
       "array([[6, 6, 6, 6],\n",
       "       [6, 6, 6, 6],\n",
       "       [6, 6, 6, 6]])"
      ]
     },
     "execution_count": 12,
     "metadata": {},
     "output_type": "execute_result"
    }
   ],
   "source": [
    "# Création d'un tableau avec initialization avec un certain nombre\n",
    "D = np.full((3, 4), 6)\n",
    "D"
   ]
  },
  {
   "cell_type": "code",
   "execution_count": 13,
   "id": "84daaa4b",
   "metadata": {},
   "outputs": [
    {
     "data": {
      "text/plain": [
       "array([[ 0.79975153, -1.15034683, -1.14421141, -1.45555744],\n",
       "       [-0.99499595,  0.00444806,  1.01986011,  0.9226612 ],\n",
       "       [ 1.63726449, -1.23446748, -0.92146587,  0.20236036]])"
      ]
     },
     "execution_count": 13,
     "metadata": {},
     "output_type": "execute_result"
    }
   ],
   "source": [
    "# Création d'un tableau avec initialization avec des nombres alléatoires\n",
    "E = np.random.randn(3, 4) # randn initialise notre tableau avec des nombres issus de la distribution normale centrée en zero\n",
    "E"
   ]
  },
  {
   "cell_type": "code",
   "execution_count": 14,
   "id": "dfd43d5a",
   "metadata": {},
   "outputs": [
    {
     "data": {
      "text/plain": [
       "array([[ 1.76405235,  0.40015721,  0.97873798,  2.2408932 ],\n",
       "       [ 1.86755799, -0.97727788,  0.95008842, -0.15135721],\n",
       "       [-0.10321885,  0.4105985 ,  0.14404357,  1.45427351]])"
      ]
     },
     "execution_count": 14,
     "metadata": {},
     "output_type": "execute_result"
    }
   ],
   "source": [
    "# si on veut fixer le génerateur alléatoires de sorte à avoir toujours les mêmes nombres alléatoires à chaque fois:\n",
    "\n",
    "np.random.seed(0)\n",
    "\n",
    "# Création d'un tableau avec initialization avec des nombres alléatoires\n",
    "E = np.random.randn(3, 4) # randn initialise notre tableau avec des nombres issus de la distribution normale centrée en zero\n",
    "E"
   ]
  },
  {
   "cell_type": "code",
   "execution_count": 15,
   "id": "6f00b373",
   "metadata": {},
   "outputs": [
    {
     "data": {
      "text/plain": [
       "array([[1., 0., 0., 0.],\n",
       "       [0., 1., 0., 0.],\n",
       "       [0., 0., 1., 0.],\n",
       "       [0., 0., 0., 1.]])"
      ]
     },
     "execution_count": 15,
     "metadata": {},
     "output_type": "execute_result"
    }
   ],
   "source": [
    "# Création de matrices identiques\n",
    "F = np.eye(4)\n",
    "F"
   ]
  },
  {
   "cell_type": "code",
   "execution_count": 16,
   "id": "0b6bbe5e",
   "metadata": {},
   "outputs": [
    {
     "data": {
      "text/plain": [
       "2"
      ]
     },
     "execution_count": 16,
     "metadata": {},
     "output_type": "execute_result"
    }
   ],
   "source": [
    "F.ndim\n"
   ]
  },
  {
   "cell_type": "code",
   "execution_count": 17,
   "id": "2716209c",
   "metadata": {},
   "outputs": [
    {
     "data": {
      "text/plain": [
       "(4, 4)"
      ]
     },
     "execution_count": 17,
     "metadata": {},
     "output_type": "execute_result"
    }
   ],
   "source": [
    "F.shape"
   ]
  },
  {
   "cell_type": "markdown",
   "id": "5ad851af",
   "metadata": {},
   "source": [
    "- **Utile pour matpotlib (Surtout pour créer des graphes avec matpotlib)**"
   ]
  },
  {
   "cell_type": "code",
   "execution_count": 18,
   "id": "59bbb20e",
   "metadata": {},
   "outputs": [
    {
     "data": {
      "text/plain": [
       "array([ 0.        ,  0.52631579,  1.05263158,  1.57894737,  2.10526316,\n",
       "        2.63157895,  3.15789474,  3.68421053,  4.21052632,  4.73684211,\n",
       "        5.26315789,  5.78947368,  6.31578947,  6.84210526,  7.36842105,\n",
       "        7.89473684,  8.42105263,  8.94736842,  9.47368421, 10.        ])"
      ]
     },
     "execution_count": 18,
     "metadata": {},
     "output_type": "execute_result"
    }
   ],
   "source": [
    "# constructeur [linspace]\n",
    "\n",
    "\"\"\"\n",
    "Le constructeur linspace nous permet de créer un tableau à une dimension\n",
    "dans lequel on précise un point de départ, un point de fin et une quantité\n",
    "d'éléments qu'on veut avoir dans notre tableau. Cette quantité de nombre va être répartie suivant le point de\n",
    "début et de fin.\n",
    "\"\"\"\n",
    "\n",
    "L = np.linspace(0, 10, 20)\n",
    "L"
   ]
  },
  {
   "cell_type": "code",
   "execution_count": 19,
   "id": "eaa70cf2",
   "metadata": {},
   "outputs": [
    {
     "data": {
      "text/plain": [
       "array([0. , 0.5, 1. , 1.5, 2. , 2.5, 3. , 3.5, 4. , 4.5, 5. , 5.5, 6. ,\n",
       "       6.5, 7. , 7.5, 8. , 8.5, 9. , 9.5])"
      ]
     },
     "execution_count": 19,
     "metadata": {},
     "output_type": "execute_result"
    }
   ],
   "source": [
    "# constructeur [arange]\n",
    "\n",
    "\"\"\"\n",
    "Le constructeur arange nous permet de créer un tableau à une dimension\n",
    "dans lequel on précise un point de départ, un point de fin et le pas qu'on souhaiterait avoir\n",
    "entre le point de départ et le point de fin dans notre tableau.\n",
    "\"\"\"\n",
    "\n",
    "R = np.arange(0, 10, 0.5)\n",
    "R"
   ]
  },
  {
   "cell_type": "code",
   "execution_count": 20,
   "id": "fe9cb1a6",
   "metadata": {},
   "outputs": [
    {
     "name": "stdout",
     "output_type": "stream",
     "text": [
      "Chaque nombre avec une précision de 64 bits en mémoire:\n",
      "\n",
      "[ 0.          0.52631579  1.05263158  1.57894737  2.10526316  2.63157895\n",
      "  3.15789474  3.68421053  4.21052632  4.73684211  5.26315789  5.78947368\n",
      "  6.31578947  6.84210526  7.36842105  7.89473684  8.42105263  8.94736842\n",
      "  9.47368421 10.        ]\n",
      "\n",
      "Chaque nombre avec une précision de 16 bits en mémoire:\n",
      "\n",
      "[ 0.      0.5264  1.053   1.579   2.105   2.63    3.158   3.684   4.21\n",
      "  4.74    5.26    5.79    6.316   6.844   7.367   7.895   8.42    8.945\n",
      "  9.48   10.    ]\n"
     ]
    }
   ],
   "source": [
    "# Précision de type de données qu'on veut avoir dans nos tableaux peu importe le constructeur utilisé\n",
    "# [array, zeros, ones, full, randn, eye, linspace, arange, etc]\n",
    "\n",
    "#NB: Plus le nombre de bits sera élévé, plus meilleure sera la précision, en revanche on n'aura un programme qui s'exécutera plus lentement.\n",
    "\n",
    "print(\"Chaque nombre avec une précision de 64 bits en mémoire:\\n\")\n",
    "L = np.linspace(0, 10, 20, dtype=np.float64)\n",
    "print(L)\n",
    "\n",
    "print(\"\\nChaque nombre avec une précision de 16 bits en mémoire:\\n\")\n",
    "L = np.linspace(0, 10, 20, dtype=np.float16)\n",
    "print(L)"
   ]
  },
  {
   "cell_type": "markdown",
   "id": "d79898ba",
   "metadata": {},
   "source": [
    "## Manipulation des tableaux avec les méthodes numpy"
   ]
  },
  {
   "cell_type": "code",
   "execution_count": 24,
   "id": "73d45c87",
   "metadata": {},
   "outputs": [
    {
     "name": "stdout",
     "output_type": "stream",
     "text": [
      "Tableau A\n",
      "[[0. 0.]\n",
      " [0. 0.]\n",
      " [0. 0.]]\n",
      "\n",
      "Tableau B\n",
      "[[1. 1.]\n",
      " [1. 1.]\n",
      " [1. 1.]]\n"
     ]
    }
   ],
   "source": [
    "# Créons deux tableaux de même dimension A et B\n",
    "\n",
    "A = np.zeros((3,2))\n",
    "B = np.ones((3,2))\n",
    "print(\"Tableau A\")\n",
    "print(A)\n",
    "print(\"\\nTableau B\")\n",
    "print(B)"
   ]
  },
  {
   "cell_type": "markdown",
   "id": "ffef396b",
   "metadata": {},
   "source": [
    "- **Assemblage des tableaux**"
   ]
  },
  {
   "cell_type": "code",
   "execution_count": 28,
   "id": "90545653",
   "metadata": {},
   "outputs": [
    {
     "data": {
      "text/plain": [
       "array([[0., 0., 1., 1.],\n",
       "       [0., 0., 1., 1.],\n",
       "       [0., 0., 1., 1.]])"
      ]
     },
     "execution_count": 28,
     "metadata": {},
     "output_type": "execute_result"
    }
   ],
   "source": [
    "# Suivant l'horizontal [hstack] (nombre de columns augmente)\n",
    "\n",
    "C = np.hstack((A, B))\n",
    "C"
   ]
  },
  {
   "cell_type": "code",
   "execution_count": 29,
   "id": "51a64f7c",
   "metadata": {},
   "outputs": [
    {
     "data": {
      "text/plain": [
       "array([[0., 0.],\n",
       "       [0., 0.],\n",
       "       [0., 0.],\n",
       "       [1., 1.],\n",
       "       [1., 1.],\n",
       "       [1., 1.]])"
      ]
     },
     "execution_count": 29,
     "metadata": {},
     "output_type": "execute_result"
    }
   ],
   "source": [
    "# Suivant le vertical [vstack] (nombre de lignes augmente)\n",
    "D = np.vstack((A, B))\n",
    "D"
   ]
  },
  {
   "cell_type": "code",
   "execution_count": 32,
   "id": "e46e209f",
   "metadata": {},
   "outputs": [
    {
     "data": {
      "text/plain": [
       "array([[0., 0.],\n",
       "       [0., 0.],\n",
       "       [0., 0.],\n",
       "       [1., 1.],\n",
       "       [1., 1.],\n",
       "       [1., 1.]])"
      ]
     },
     "execution_count": 32,
     "metadata": {},
     "output_type": "execute_result"
    }
   ],
   "source": [
    "# Avec la méthode concatenate en précisant l'axe selon lequel on veut les assembler\n",
    "\n",
    "#Suivant le vertical axis=0\n",
    "E = np.concatenate((A, B), axis=0)\n",
    "E"
   ]
  },
  {
   "cell_type": "code",
   "execution_count": 33,
   "id": "3bae7ffe",
   "metadata": {},
   "outputs": [
    {
     "data": {
      "text/plain": [
       "array([[0., 0., 1., 1.],\n",
       "       [0., 0., 1., 1.],\n",
       "       [0., 0., 1., 1.]])"
      ]
     },
     "execution_count": 33,
     "metadata": {},
     "output_type": "execute_result"
    }
   ],
   "source": [
    "#Suivant l'horizontal axis=1\n",
    "F = np.concatenate((A,B), axis=1)\n",
    "F"
   ]
  },
  {
   "cell_type": "markdown",
   "id": "d12dc4a0",
   "metadata": {},
   "source": [
    "- La méthode `reshape`"
   ]
  },
  {
   "cell_type": "markdown",
   "id": "f1b52782",
   "metadata": {},
   "source": [
    "La méthode reshape nous permet de remanipuler la forme d'un tableau pour lui donner une nouvelle forme.\n",
    "NB: Cette méthode ne marche que si le nombre d'éléments qu'on a dans la forme initiale est égal au nombre d'éléments dans la forme finale."
   ]
  },
  {
   "cell_type": "code",
   "execution_count": 34,
   "id": "586ddd09",
   "metadata": {},
   "outputs": [
    {
     "data": {
      "text/plain": [
       "array([[0., 0.],\n",
       "       [0., 0.],\n",
       "       [0., 0.],\n",
       "       [1., 1.],\n",
       "       [1., 1.],\n",
       "       [1., 1.]])"
      ]
     },
     "execution_count": 34,
     "metadata": {},
     "output_type": "execute_result"
    }
   ],
   "source": [
    "# Prenons notre tableau D pour essayer de changer sa forme\n",
    "\n",
    "D"
   ]
  },
  {
   "cell_type": "code",
   "execution_count": 35,
   "id": "f9d7ee81",
   "metadata": {},
   "outputs": [
    {
     "data": {
      "text/plain": [
       "(6, 2)"
      ]
     },
     "execution_count": 35,
     "metadata": {},
     "output_type": "execute_result"
    }
   ],
   "source": [
    "D.shape"
   ]
  },
  {
   "cell_type": "code",
   "execution_count": 36,
   "id": "447cca57",
   "metadata": {},
   "outputs": [
    {
     "data": {
      "text/plain": [
       "12"
      ]
     },
     "execution_count": 36,
     "metadata": {},
     "output_type": "execute_result"
    }
   ],
   "source": [
    "D.size"
   ]
  },
  {
   "cell_type": "code",
   "execution_count": 38,
   "id": "1ccd5a02",
   "metadata": {},
   "outputs": [
    {
     "data": {
      "text/plain": [
       "array([[0., 0., 0., 0.],\n",
       "       [0., 0., 1., 1.],\n",
       "       [1., 1., 1., 1.]])"
      ]
     },
     "execution_count": 38,
     "metadata": {},
     "output_type": "execute_result"
    }
   ],
   "source": [
    "# on va reshape D à (3, 4) car 3*4 aussi font 12\n",
    "\n",
    "D = D.reshape((3, 4))\n",
    "D"
   ]
  },
  {
   "cell_type": "code",
   "execution_count": 39,
   "id": "885dd0f6",
   "metadata": {},
   "outputs": [
    {
     "data": {
      "text/plain": [
       "(3, 4)"
      ]
     },
     "execution_count": 39,
     "metadata": {},
     "output_type": "execute_result"
    }
   ],
   "source": [
    "D.shape"
   ]
  },
  {
   "cell_type": "code",
   "execution_count": 40,
   "id": "97714c4c",
   "metadata": {},
   "outputs": [],
   "source": [
    "# NB: Le remaniement de notre tableau a bien un impact sur la manière dont les nombres\n",
    "#     sont disposés dans notre tableau."
   ]
  },
  {
   "cell_type": "markdown",
   "id": "0fbc9aa4",
   "metadata": {},
   "source": [
    "- **La méthode `ravel`**"
   ]
  },
  {
   "cell_type": "markdown",
   "id": "85fb6b1c",
   "metadata": {},
   "source": [
    "La méthode ravel permet d'applatir un tableau à une seule dimension"
   ]
  },
  {
   "cell_type": "code",
   "execution_count": 41,
   "id": "8bfaa9e9",
   "metadata": {},
   "outputs": [
    {
     "data": {
      "text/plain": [
       "array([[0., 0., 0., 0.],\n",
       "       [0., 0., 1., 1.],\n",
       "       [1., 1., 1., 1.]])"
      ]
     },
     "execution_count": 41,
     "metadata": {},
     "output_type": "execute_result"
    }
   ],
   "source": [
    "# Prenons notre tableau D\n",
    "\n",
    "D"
   ]
  },
  {
   "cell_type": "code",
   "execution_count": 42,
   "id": "d8356b1e",
   "metadata": {},
   "outputs": [
    {
     "data": {
      "text/plain": [
       "array([0., 0., 0., 0., 0., 0., 1., 1., 1., 1., 1., 1.])"
      ]
     },
     "execution_count": 42,
     "metadata": {},
     "output_type": "execute_result"
    }
   ],
   "source": [
    "D = D.ravel()\n",
    "D"
   ]
  },
  {
   "cell_type": "markdown",
   "id": "7cb8ecca",
   "metadata": {},
   "source": [
    "## Exercise\n",
    "\n"
   ]
  },
  {
   "cell_type": "code",
   "execution_count": 47,
   "id": "da5a3271",
   "metadata": {},
   "outputs": [
    {
     "data": {
      "text/plain": [
       "array([[-1.61389785, -0.21274028, -0.89546656,  1.        ],\n",
       "       [ 0.3869025 , -0.51080514, -1.18063218,  1.        ],\n",
       "       [-0.02818223,  0.42833187,  0.06651722,  1.        ],\n",
       "       [ 0.3024719 , -0.63432209, -0.36274117,  1.        ]])"
      ]
     },
     "execution_count": 47,
     "metadata": {},
     "output_type": "execute_result"
    }
   ],
   "source": [
    "def initialisation(m, n):\n",
    "    # m: nombre de lignes\n",
    "    # n: nombre de colonnes\n",
    "    # retourne une matrice aléatoire (m, n+1)\n",
    "    # avec une colonne biais (\"remplie de \"1\" \") tout à droite\n",
    "    \n",
    "    # Fonctions possibles à utiliser\n",
    "    # reshape, random.randn, concatenate\n",
    "    \n",
    "    A = np.random.randn(m, n+1)\n",
    "    \n",
    "    B = np.ones((m,1))\n",
    "    \n",
    "    C = np.concatenate((A, B), axis=1)\n",
    "    \n",
    "    return C\n",
    "\n",
    "C = initialisation(4, 2)\n",
    "C"
   ]
  },
  {
   "cell_type": "code",
   "execution_count": null,
   "id": "b694093e",
   "metadata": {},
   "outputs": [],
   "source": []
  }
 ],
 "metadata": {
  "kernelspec": {
   "display_name": "Python 3 (ipykernel)",
   "language": "python",
   "name": "python3"
  },
  "language_info": {
   "codemirror_mode": {
    "name": "ipython",
    "version": 3
   },
   "file_extension": ".py",
   "mimetype": "text/x-python",
   "name": "python",
   "nbconvert_exporter": "python",
   "pygments_lexer": "ipython3",
   "version": "3.7.16"
  }
 },
 "nbformat": 4,
 "nbformat_minor": 5
}
