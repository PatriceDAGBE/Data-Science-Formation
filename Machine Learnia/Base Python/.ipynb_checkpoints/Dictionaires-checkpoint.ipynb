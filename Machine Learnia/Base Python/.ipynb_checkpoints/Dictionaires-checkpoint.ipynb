{
 "cells": [
  {
   "cell_type": "code",
   "execution_count": 10,
   "id": "d4f36a2b",
   "metadata": {},
   "outputs": [],
   "source": [
    "classeur = {\n",
    "    \"positif\": [],\n",
    "    \"negatif\": []\n",
    "}"
   ]
  },
  {
   "cell_type": "code",
   "execution_count": 11,
   "id": "1b7983bc",
   "metadata": {},
   "outputs": [],
   "source": [
    "def trier(classeur, nombre):\n",
    "    if nombre >= 0:\n",
    "        classeur[\"positif\"].append(nombre)\n",
    "    else:\n",
    "        classeur[\"negatif\"].append(nombre)\n",
    "    return classeur"
   ]
  },
  {
   "cell_type": "code",
   "execution_count": 12,
   "id": "39045fe9",
   "metadata": {},
   "outputs": [
    {
     "data": {
      "text/plain": [
       "{'positif': [5], 'negatif': []}"
      ]
     },
     "execution_count": 12,
     "metadata": {},
     "output_type": "execute_result"
    }
   ],
   "source": [
    "trier(classeur, 5)\n",
    "classeur"
   ]
  },
  {
   "cell_type": "code",
   "execution_count": 13,
   "id": "4ab6ec63",
   "metadata": {},
   "outputs": [
    {
     "data": {
      "text/plain": [
       "{'positif': [5], 'negatif': [-5]}"
      ]
     },
     "execution_count": 13,
     "metadata": {},
     "output_type": "execute_result"
    }
   ],
   "source": [
    "trier(classeur, -5)"
   ]
  },
  {
   "cell_type": "code",
   "execution_count": 14,
   "id": "47e5af8a",
   "metadata": {},
   "outputs": [
    {
     "data": {
      "text/plain": [
       "{'positif': [5], 'negatif': [-5]}"
      ]
     },
     "execution_count": 14,
     "metadata": {},
     "output_type": "execute_result"
    }
   ],
   "source": [
    "classeur\n"
   ]
  },
  {
   "cell_type": "code",
   "execution_count": 15,
   "id": "7b32a743",
   "metadata": {},
   "outputs": [
    {
     "data": {
      "text/plain": [
       "{'positif': [5, 5], 'negatif': [-5]}"
      ]
     },
     "execution_count": 15,
     "metadata": {},
     "output_type": "execute_result"
    }
   ],
   "source": [
    "trier(classeur, 5)"
   ]
  },
  {
   "cell_type": "code",
   "execution_count": 16,
   "id": "548db375",
   "metadata": {},
   "outputs": [
    {
     "data": {
      "text/plain": [
       "{'positif': [5, 5], 'negatif': [-5]}"
      ]
     },
     "execution_count": 16,
     "metadata": {},
     "output_type": "execute_result"
    }
   ],
   "source": [
    "classeur"
   ]
  },
  {
   "cell_type": "code",
   "execution_count": 17,
   "id": "540bac28",
   "metadata": {},
   "outputs": [],
   "source": [
    "# Dictionnaire Comprehension\n",
    "\n",
    "dico = {k:v for k, v, in enumerate([ i**2 for i in range(20)])}"
   ]
  },
  {
   "cell_type": "code",
   "execution_count": 18,
   "id": "ad89d3a0",
   "metadata": {},
   "outputs": [
    {
     "data": {
      "text/plain": [
       "{0: 0,\n",
       " 1: 1,\n",
       " 2: 4,\n",
       " 3: 9,\n",
       " 4: 16,\n",
       " 5: 25,\n",
       " 6: 36,\n",
       " 7: 49,\n",
       " 8: 64,\n",
       " 9: 81,\n",
       " 10: 100,\n",
       " 11: 121,\n",
       " 12: 144,\n",
       " 13: 169,\n",
       " 14: 196,\n",
       " 15: 225,\n",
       " 16: 256,\n",
       " 17: 289,\n",
       " 18: 324,\n",
       " 19: 361}"
      ]
     },
     "execution_count": 18,
     "metadata": {},
     "output_type": "execute_result"
    }
   ],
   "source": [
    "dico\n"
   ]
  },
  {
   "cell_type": "code",
   "execution_count": null,
   "id": "2f027281",
   "metadata": {},
   "outputs": [],
   "source": []
  }
 ],
 "metadata": {
  "kernelspec": {
   "display_name": "Python 3 (ipykernel)",
   "language": "python",
   "name": "python3"
  },
  "language_info": {
   "codemirror_mode": {
    "name": "ipython",
    "version": 3
   },
   "file_extension": ".py",
   "mimetype": "text/x-python",
   "name": "python",
   "nbconvert_exporter": "python",
   "pygments_lexer": "ipython3",
   "version": "3.7.16"
  }
 },
 "nbformat": 4,
 "nbformat_minor": 5
}
