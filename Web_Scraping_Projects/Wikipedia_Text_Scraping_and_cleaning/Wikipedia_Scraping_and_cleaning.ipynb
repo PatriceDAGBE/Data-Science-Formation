{
 "cells": [
  {
   "cell_type": "code",
   "execution_count": 8,
   "id": "282d9a61",
   "metadata": {},
   "outputs": [
    {
     "name": "stdout",
     "output_type": "stream",
     "text": [
      "[<p><b><a href=\"/wiki/Sir_William_Gordon-Cumming,_4th_Baronet\" title=\"Sir William Gordon-Cumming, 4th Baronet\">Sir William Gordon-Cumming</a></b> (20 July 1848 – 20 May 1930) was a Scottish landowner, soldier and socialite. He was the central figure in the <a href=\"/wiki/Royal_baccarat_scandal\" title=\"Royal baccarat scandal\">royal baccarat scandal</a> of 1891. He joined the <a href=\"/wiki/British_Army\" title=\"British Army\">British Army</a> in 1868 and saw service in South Africa, Egypt and the Sudan; he served with distinction and rose to the rank of <a href=\"/wiki/Lieutenant_colonel_(United_Kingdom)\" title=\"Lieutenant colonel (United Kingdom)\">lieutenant-colonel</a>. An adventurer, he also hunted in the US and India. A friend of <a href=\"/wiki/Edward_VII\" title=\"Edward VII\">Edward, Prince of Wales</a>, for over 20 years, in 1890 he attended a house party at <a href=\"/wiki/Tranby_Croft\" title=\"Tranby Croft\">Tranby Croft</a>, where he took part in a game of <a href=\"/wiki/Baccarat\" title=\"Baccarat\">baccarat</a> at the behest of the prince. During the course of two nights' play he was accused of cheating, which he denied. After news of the affair leaked out, he sued five members of the party for <a href=\"/wiki/Defamation\" title=\"Defamation\">slander</a>; Edward was called as a witness. The case was a public spectacle in the UK and abroad, but the verdict went against Gordon-Cumming and he was ostracised from polite society. After the court case he married an American heiress, but their relationship was unhappy. (<b><a href=\"/wiki/Sir_William_Gordon-Cumming,_4th_Baronet\" title=\"Sir William Gordon-Cumming, 4th Baronet\">Full article...</a></b>)\n",
      "</p>, <p><b><a href=\"/wiki/July_20\" title=\"July 20\">July 20</a></b>\n",
      "</p>, <p><b><a href=\"/wiki/C/2022_E3_(ZTF)\" title=\"C/2022 E3 (ZTF)\">C/2022 E3 (ZTF)</a></b> is a <a href=\"/wiki/List_of_near-parabolic_comets\" title=\"List of near-parabolic comets\">non-periodic comet</a> from the <a href=\"/wiki/Oort_cloud\" title=\"Oort cloud\">Oort cloud</a> that was discovered by the <a href=\"/wiki/Zwicky_Transient_Facility\" title=\"Zwicky Transient Facility\">Zwicky Transient Facility</a> (ZTF) in 2022. With a  <a href=\"/wiki/Comet_nucleus\" title=\"Comet nucleus\">comet nucleus</a> of around 1 kilometre (0.62 mi) in diameter, C/2022 E3 rotates on its axis once every 8.5 to 8.7 hours. Its <a href=\"/wiki/Comet_tail\" title=\"Comet tail\">tails</a> of dust and gas extended for millions of kilometers and, during January 2023, an <a href=\"/wiki/Anti-tail\" title=\"Anti-tail\">anti-tail</a> was also visible. The comet reached its most recent <a href=\"/wiki/Apsis#Perihelion_and_aphelion\" title=\"Apsis\">perihelion</a> in January 2023, at a distance of 1.11 AU (166 million km; 103 million mi) from the sun, and the closest approach to Earth was a few weeks later, at a distance of 0.28 AU (42 million km; 26 million mi). The comet reached <a href=\"/wiki/Apparent_magnitude\" title=\"Apparent magnitude\">magnitude</a> 5 and was visible with the <a href=\"/wiki/Naked_eye\" title=\"Naked eye\">naked eye</a> under moonless <a href=\"/wiki/Dark-sky_preserve\" title=\"Dark-sky preserve\">dark skies</a>. This photograph of C/2022 E3 was taken in January 2023 and released by the Italian <a href=\"/wiki/National_Institute_for_Astrophysics\" title=\"National Institute for Astrophysics\">National Institute for Astrophysics</a>.\n",
      "</p>, <p style=\"text-align:center;\"><small>Photograph credit: Alessandro Bianconi; <a href=\"/wiki/National_Institute_for_Astrophysics\" title=\"National Institute for Astrophysics\">National Institute for Astrophysics</a></small></p>, <p>Wikipedia is written by volunteer editors and hosted by the <a href=\"/wiki/Wikimedia_Foundation\" title=\"Wikimedia Foundation\">Wikimedia Foundation</a>, a non-profit organization that also hosts a range of other volunteer <a class=\"extiw\" href=\"https://wikimediafoundation.org/our-work/wikimedia-projects/\" title=\"foundationsite:our-work/wikimedia-projects/\">projects</a>:\n",
      "</p>, <p>This Wikipedia is written in <a href=\"/wiki/English_language\" title=\"English language\">English</a>. Many <a class=\"extiw\" href=\"https://meta.wikimedia.org/wiki/List_of_Wikipedias\" title=\"meta:List of Wikipedias\">other Wikipedias are available</a>; some of the largest are listed below.\n",
      "</p>]\n",
      "\n",
      "\n",
      "\n",
      "Sir William Gordon-Cumming (20 July 1848 – 20 May 1930) was a Scottish landowner, soldier and socialite. He was the central figure in the royal baccarat scandal of 1891. He joined the British Army in 1868 and saw service in South Africa, Egypt and the Sudan; he served with distinction and rose to the rank of lieutenant-colonel. An adventurer, he also hunted in the US and India. A friend of Edward, Prince of Wales, for over 20 years, in 1890 he attended a house party at Tranby Croft, where he took part in a game of baccarat at the behest of the prince. During the course of two nights' play he was accused of cheating, which he denied. After news of the affair leaked out, he sued five members of the party for slander; Edward was called as a witness. The case was a public spectacle in the UK and abroad, but the verdict went against Gordon-Cumming and he was ostracised from polite society. After the court case he married an American heiress, but their relationship was unhappy. (Full article...)\n",
      "\n"
     ]
    }
   ],
   "source": [
    "# import required modules\n",
    "from bs4 import BeautifulSoup\n",
    "import requests\n",
    "\n",
    "# get URL\n",
    "page = requests.get(\"https://en.wikipedia.org/wiki/Main_Page\")\n",
    "\n",
    "# scrape webpage\n",
    "soup = BeautifulSoup(page.content, 'html.parser')\n",
    "\n",
    "list(soup.children)\n",
    "\n",
    "# find all occurrence of p in HTML\n",
    "# includes HTML tags\n",
    "print(soup.find_all('p'))\n",
    "\n",
    "print('\\n\\n')\n",
    "\n",
    "# return only text\n",
    "# does not include HTML tags\n",
    "print(soup.find_all('p')[0].get_text())"
   ]
  },
  {
   "cell_type": "code",
   "execution_count": 15,
   "id": "46e4ac00",
   "metadata": {},
   "outputs": [
    {
     "name": "stdout",
     "output_type": "stream",
     "text": [
      "<h2 class=\"mp-h2 mw-html-heading\" id=\"mp-tfa-h2\">\n",
      " From today's featured article\n",
      "</h2>\n",
      "\n"
     ]
    }
   ],
   "source": [
    "# create object\n",
    "object = soup.find(id=\"mp-left\")\n",
    "\n",
    "# find tags\n",
    "items = object.find_all(class_=\"mp-h2\")\n",
    "result = items[0]\n",
    "\n",
    "# display tags\n",
    "print(result.prettify())"
   ]
  },
  {
   "cell_type": "code",
   "execution_count": null,
   "id": "bb063b27",
   "metadata": {},
   "outputs": [],
   "source": []
  }
 ],
 "metadata": {
  "kernelspec": {
   "display_name": "Python 3 (ipykernel)",
   "language": "python",
   "name": "python3"
  },
  "language_info": {
   "codemirror_mode": {
    "name": "ipython",
    "version": 3
   },
   "file_extension": ".py",
   "mimetype": "text/x-python",
   "name": "python",
   "nbconvert_exporter": "python",
   "pygments_lexer": "ipython3",
   "version": "3.7.16"
  }
 },
 "nbformat": 4,
 "nbformat_minor": 5
}
