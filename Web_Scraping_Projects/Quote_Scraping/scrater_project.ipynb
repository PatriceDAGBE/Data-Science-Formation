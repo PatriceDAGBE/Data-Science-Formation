{
 "cells": [
  {
   "cell_type": "code",
   "execution_count": 2,
   "id": "9ac63608",
   "metadata": {},
   "outputs": [],
   "source": [
    "import requests\n",
    "from bs4 import BeautifulSoup\n",
    "from time import sleep\n",
    "from random import choice"
   ]
  },
  {
   "cell_type": "code",
   "execution_count": 3,
   "id": "f58e321a",
   "metadata": {
    "scrolled": true
   },
   "outputs": [],
   "source": [
    "# list to store scraped data\n",
    "all_quotes = []\n",
    "\n",
    "# this part of the url is constant\n",
    "base_url = \"http://quotes.toscrape.com/\"\n",
    "\n",
    "# this part of the url will keep changing\n",
    "url = \"/page/1\""
   ]
  },
  {
   "cell_type": "code",
   "execution_count": 4,
   "id": "91f1de80",
   "metadata": {},
   "outputs": [
    {
     "name": "stdout",
     "output_type": "stream",
     "text": [
      "Now Scrapinghttp://quotes.toscrape.com//page/1\n",
      "Now Scrapinghttp://quotes.toscrape.com//page/2/\n",
      "Now Scrapinghttp://quotes.toscrape.com//page/3/\n",
      "Now Scrapinghttp://quotes.toscrape.com//page/4/\n",
      "Now Scrapinghttp://quotes.toscrape.com//page/5/\n",
      "Now Scrapinghttp://quotes.toscrape.com//page/6/\n",
      "Now Scrapinghttp://quotes.toscrape.com//page/7/\n",
      "Now Scrapinghttp://quotes.toscrape.com//page/8/\n",
      "Now Scrapinghttp://quotes.toscrape.com//page/9/\n",
      "Now Scrapinghttp://quotes.toscrape.com//page/10/\n"
     ]
    }
   ],
   "source": [
    "while url:\n",
    "\n",
    "    response = requests.get(f\"{base_url}{url}\")\n",
    "    print(f\"Now Scraping{base_url}{url}\")\n",
    "\n",
    "    soup = BeautifulSoup(response.content, 'html.parser')\n",
    "\n",
    "    quotes = soup.find_all(class_='quote')\n",
    "\n",
    "    for quote in quotes:\n",
    "        all_quotes.append({\n",
    "            \"text\": quote.find(class_=\"text\").get_text(),\n",
    "            \"author\": quote.find(class_=\"author\").get_text(),\n",
    "            \"bio-link\": quote.find(\"a\")[\"href\"]\n",
    "        })\n",
    "    \n",
    "    next_btn = soup.find(class_=\"next\")\n",
    "    url = next_btn.find(\"a\")[\"href\"] if next_btn else None\n",
    "    # sleep(2)"
   ]
  },
  {
   "cell_type": "code",
   "execution_count": 5,
   "id": "7a11d6ec",
   "metadata": {},
   "outputs": [],
   "source": [
    "quote = choice(all_quotes)\n",
    "remaining_guesses = 4\n",
    "guess = ''"
   ]
  },
  {
   "cell_type": "code",
   "execution_count": 6,
   "id": "8fb7a16c",
   "metadata": {},
   "outputs": [
    {
     "name": "stdout",
     "output_type": "stream",
     "text": [
      "Here is a quote: \n",
      "\t “A reader lives a thousand lives before he dies, said Jojen. The man who never reads lives only one.”\n",
      "Who said this quote? Guesses remaining 4 Tony\n",
      "Here's a hint: The author was born on September 20, 1948 in Bayonne, New Jersey, The United States\n",
      "Who said this quote? Guesses remaining 3 Karel\n",
      "Here's a hint: The author's first name starts with: G\n",
      "Who said this quote? Guesses remaining 2 Grégroire\n",
      "Here's a hint: The author's last name starts with: R\n",
      "Who said this quote? Guesses remaining 1 Grégroire RONNEL\n",
      "Sorry, you ran out of guesses. The answer was George R.R. Martin\n"
     ]
    }
   ],
   "source": [
    "print(\"Here is a quote: \")\n",
    "print(\"\\t\", quote[\"text\"])\n",
    "guessed = False\n",
    "\n",
    "while not guessed and remaining_guesses > 0:\n",
    "    guess = input(f\"Who said this quote? Guesses remaining {remaining_guesses} \")\n",
    "    guess = guess.lower()\n",
    "\n",
    "    if guess == quote[\"author\"].lower():\n",
    "        guessed = True\n",
    "        print(\"CONGRATULATIONS, you guessed it!\") \n",
    "        break\n",
    "\n",
    "    remaining_guesses -= 1\n",
    "    \n",
    "    if remaining_guesses == 3:\n",
    "        res = requests.get(f\"{base_url}{quote['bio-link']}\")\n",
    "        soup = BeautifulSoup(res.text, \"html.parser\")\n",
    "        birth_date = soup.find(class_=\"author-born-date\").get_text()\n",
    "        birth_place = soup.find(class_=\"author-born-location\").get_text()\n",
    "        print(\n",
    "            f\"Here's a hint: The author was born on {birth_date} {birth_place}\")\n",
    "    \n",
    "    if remaining_guesses == 2:\n",
    "        print(\n",
    "            f\"Here's a hint: The author's first name starts with: {quote['author'][0]}\")\n",
    "    \n",
    "    if remaining_guesses == 1:\n",
    "        last_initial = quote[\"author\"].split(\" \")[1][0]\n",
    "        print(\n",
    "            f\"Here's a hint: The author's last name starts with: {last_initial}\")\n",
    "        \n",
    "if not guessed:\n",
    "    print(f\"Sorry, you ran out of guesses. The answer was {quote['author']}\")"
   ]
  }
 ],
 "metadata": {
  "kernelspec": {
   "display_name": "Python 3 (ipykernel)",
   "language": "python",
   "name": "python3"
  },
  "language_info": {
   "codemirror_mode": {
    "name": "ipython",
    "version": 3
   },
   "file_extension": ".py",
   "mimetype": "text/x-python",
   "name": "python",
   "nbconvert_exporter": "python",
   "pygments_lexer": "ipython3",
   "version": "3.7.16"
  }
 },
 "nbformat": 4,
 "nbformat_minor": 5
}
