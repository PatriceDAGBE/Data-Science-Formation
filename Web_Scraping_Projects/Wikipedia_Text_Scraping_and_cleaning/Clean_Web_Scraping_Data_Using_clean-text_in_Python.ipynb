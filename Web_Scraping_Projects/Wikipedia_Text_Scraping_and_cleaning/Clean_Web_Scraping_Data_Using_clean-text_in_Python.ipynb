{
 "cells": [
  {
   "cell_type": "code",
   "execution_count": 5,
   "id": "b8798691",
   "metadata": {},
   "outputs": [],
   "source": [
    "# Clean Web Scraping Data Using clean-text in Python"
   ]
  },
  {
   "cell_type": "code",
   "execution_count": 6,
   "id": "3f5bf2b1",
   "metadata": {},
   "outputs": [
    {
     "name": "stdout",
     "output_type": "stream",
     "text": [
      "a bunch of 'new' references,\n",
      "including [moana]. \"you are right <3!\"\n"
     ]
    }
   ],
   "source": [
    "# import library \n",
    "from cleantext import clean\n",
    "\n",
    "# input string\n",
    "text = \"\"\"\n",
    "    A bunch of \\\\u2018new\\\\u2019 references, \n",
    "    including [Moana]. »Yóù àré rïght <3!«\n",
    "    \"\"\"\n",
    "\n",
    "print(clean(text=text,\n",
    "            fix_unicode=True,\n",
    "            to_ascii=True,\n",
    "            lower=True,\n",
    "            no_line_breaks=False,\n",
    "            no_urls=False,\n",
    "            no_emails=False,\n",
    "            no_phone_numbers=False,\n",
    "            no_numbers=False,\n",
    "            no_digits=False,\n",
    "            no_currency_symbols=False,\n",
    "            no_punct=False,\n",
    "            replace_with_punct=\"\",\n",
    "            replace_with_url=\"This is a URL\",\n",
    "            replace_with_email=\"Email\",\n",
    "            replace_with_phone_number=\"\",\n",
    "            replace_with_number=\"123\",\n",
    "            replace_with_digit=\"0\",\n",
    "            replace_with_currency_symbol=\"$\",\n",
    "            lang=\"en\"\n",
    "            ))"
   ]
  },
  {
   "cell_type": "code",
   "execution_count": null,
   "id": "c371e13e",
   "metadata": {},
   "outputs": [],
   "source": []
  }
 ],
 "metadata": {
  "kernelspec": {
   "display_name": "Python 3 (ipykernel)",
   "language": "python",
   "name": "python3"
  },
  "language_info": {
   "codemirror_mode": {
    "name": "ipython",
    "version": 3
   },
   "file_extension": ".py",
   "mimetype": "text/x-python",
   "name": "python",
   "nbconvert_exporter": "python",
   "pygments_lexer": "ipython3",
   "version": "3.7.16"
  }
 },
 "nbformat": 4,
 "nbformat_minor": 5
}
